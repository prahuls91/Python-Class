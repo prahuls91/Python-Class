{
 "cells": [
  {
   "cell_type": "code",
   "execution_count": null,
   "metadata": {},
   "outputs": [],
   "source": [
    "#Write the value and type of the expressions:\n",
    "#x = 2 & y = 4\n",
    "#Expression: x / y\n",
    "#Expression: 6 / 4 * 2\n",
    "#x = 15 & y = 4.0\n",
    "#Expression: x + y * 2\n",
    "#Expression: x / y\n",
    "#Expression: y / x\n",
    "# Expression: y / 2"
   ]
  },
  {
   "cell_type": "code",
   "execution_count": 5,
   "metadata": {},
   "outputs": [
    {
     "name": "stdout",
     "output_type": "stream",
     "text": [
      "0.5\n",
      "<class 'float'>\n"
     ]
    }
   ],
   "source": [
    "x=2\n",
    "y=4\n",
    "print(x/y)\n",
    "print(type(x/y))"
   ]
  },
  {
   "cell_type": "code",
   "execution_count": 6,
   "metadata": {},
   "outputs": [
    {
     "data": {
      "text/plain": [
       "3.0"
      ]
     },
     "execution_count": 6,
     "metadata": {},
     "output_type": "execute_result"
    }
   ],
   "source": [
    "6 / 4 * 2"
   ]
  },
  {
   "cell_type": "markdown",
   "metadata": {},
   "source": [
    "x=15\n",
    "y=4\n",
    "print(x+y*2)\n",
    "print(x/y)\n",
    "print(y/x)\n",
    "print(y/2)"
   ]
  },
  {
   "cell_type": "code",
   "execution_count": null,
   "metadata": {},
   "outputs": [],
   "source": [
    "# 2 Write a program to convert speed in km/hr to m/s. \n",
    "#Use raw_input() to take input(speed in km/hr) from the user.\n",
    "\n",
    "#1 km/hr = 5/18 m/sec or 0.277778 m/sec "
   ]
  },
  {
   "cell_type": "code",
   "execution_count": 5,
   "metadata": {},
   "outputs": [
    {
     "name": "stdout",
     "output_type": "stream",
     "text": [
      "Enter a distance in miles: 20\n",
      "The distance in kilometers is:  32.18\n"
     ]
    }
   ],
   "source": [
    "def main():\n",
    "    miles = float(input(\"Enter a distance in miles: \"))\n",
    "    conv_fac = 1.609 #conversion factor \n",
    "    #calculating how many kilometers \n",
    "    kilometers = miles * conv_fac\n",
    "    print(\"The distance in kilometers is: \", kilometers)\n",
    "main()    "
   ]
  },
  {
   "cell_type": "code",
   "execution_count": null,
   "metadata": {},
   "outputs": [],
   "source": [
    "#7.How many seconds are in an hour ?.use the interpreter as a calculator and multiply the number of seconds in a minute by the number of minutes in an hour?"
   ]
  },
  {
   "cell_type": "code",
   "execution_count": 7,
   "metadata": {},
   "outputs": [
    {
     "data": {
      "text/plain": [
       "3600"
      ]
     },
     "execution_count": 7,
     "metadata": {},
     "output_type": "execute_result"
    }
   ],
   "source": [
    "60*60"
   ]
  },
  {
   "cell_type": "code",
   "execution_count": null,
   "metadata": {},
   "outputs": [],
   "source": [
    "#4.what gets printed?\n",
    "x=true\n",
    "y=false\n",
    "z=false"
   ]
  },
  {
   "cell_type": "code",
   "execution_count": 7,
   "metadata": {},
   "outputs": [
    {
     "name": "stdout",
     "output_type": "stream",
     "text": [
      "yes\n"
     ]
    }
   ],
   "source": [
    "x=True\n",
    "y=False\n",
    "z=False\n",
    "if x or y and z:\n",
    "    print(\"yes\")\n",
    "else:\n",
    "    print(\"no\")"
   ]
  },
  {
   "cell_type": "code",
   "execution_count": null,
   "metadata": {},
   "outputs": [],
   "source": [
    "#3.write a program to prompt for a score between 0.0 and 1.0 .If the score is between 0.0 and 1.0 ,print a grade using the following table :\n",
    "#Score Grade :\n",
    "#>=0.9A\n",
    "#>=0.8B\n",
    "#>=0.7C\n",
    "#>=0.6D\n",
    "#<0.6F"
   ]
  },
  {
   "cell_type": "code",
   "execution_count": 9,
   "metadata": {},
   "outputs": [
    {
     "name": "stdout",
     "output_type": "stream",
     "text": [
      "Please type a score between 0.0 and 1.0:0.98\n",
      "A\n"
     ]
    }
   ],
   "source": [
    "score=input(\"Please type a score between 0.0 and 1.0:\")\n",
    "try:\n",
    "    float(score)\n",
    "    if float(score) >=0.9 and float(score) <=1.0:\n",
    "     print(\"A\")\n",
    "    elif float(score) >=0.8 and float(score)<=0.9:\n",
    "     print(\"B\")\n",
    "    elif float(score)>=0.7 and float(score)<=0.8:\n",
    "     print(\"C\")\n",
    "    elif float(score)>=0.6 and float(score)<=0.7:\n",
    "     print(\"D\")\n",
    "    elif float(score)<0.6:\n",
    "     print(\"F\")\n",
    "    else:\n",
    "     print(\"Bad score\")\n",
    "except:\n",
    "     print(\"Bad score\")\n",
    "\n",
    "        "
   ]
  },
  {
   "cell_type": "code",
   "execution_count": 9,
   "metadata": {},
   "outputs": [
    {
     "name": "stdout",
     "output_type": "stream",
     "text": [
      "this wil print value 5 times \n",
      "this wil print value 5 times \n",
      "this wil print value 5 times \n",
      "this wil print value 5 times \n",
      "this wil print value 5 times \n",
      "this wil print value 5 times \n"
     ]
    }
   ],
   "source": [
    "#Event controlled loop :\n",
    "    \n",
    "counter=0\n",
    "while counter<=5:\n",
    "    print(\"this wil print value 5 times \")\n",
    "    counter+=1"
   ]
  },
  {
   "cell_type": "code",
   "execution_count": null,
   "metadata": {},
   "outputs": [],
   "source": [
    "#05 Learn about the following pre-defined function:\n",
    "# swapcase( ):This method returns a copy of the string in which all the case-based \n",
    "#               characters have had their case swapped.\n",
    "# upper( ):Returns uppercase letters through out the string\n",
    "#   lower( ):Returns lowercase letters through out the string\n",
    "# title( ):Returns the first character of string to uppercase in the string  \n",
    "# capitalize( ):Capitalize is one of the Python String Function\n",
    "#                 which is used to convert the first character into Uppercase and remaining characters\n",
    "#                 to Lowercase and return new string. \n",
    "# help():"
   ]
  },
  {
   "cell_type": "code",
   "execution_count": 11,
   "metadata": {},
   "outputs": [
    {
     "name": "stdout",
     "output_type": "stream",
     "text": [
      "tOUCHiD DOESnOT aCCePT thIS fInGErPrInT\n"
     ]
    }
   ],
   "source": [
    "s=\"TouchId doesNot AccEpt THis FiNgeRpRiNt\"\n",
    "print (s.swapcase())"
   ]
  },
  {
   "cell_type": "code",
   "execution_count": 12,
   "metadata": {},
   "outputs": [
    {
     "name": "stdout",
     "output_type": "stream",
     "text": [
      "ABCD\n"
     ]
    }
   ],
   "source": [
    "s=\"abcd\"\n",
    "print(s.upper())"
   ]
  },
  {
   "cell_type": "code",
   "execution_count": 13,
   "metadata": {},
   "outputs": [
    {
     "name": "stdout",
     "output_type": "stream",
     "text": [
      "abcd\n"
     ]
    }
   ],
   "source": [
    "s=\"ABCD\"\n",
    "print(s.lower())"
   ]
  },
  {
   "cell_type": "code",
   "execution_count": 14,
   "metadata": {},
   "outputs": [
    {
     "name": "stdout",
     "output_type": "stream",
     "text": [
      "This Is A String\n"
     ]
    }
   ],
   "source": [
    "s=\"This is a string\"\n",
    "print(s.title())"
   ]
  },
  {
   "cell_type": "code",
   "execution_count": 16,
   "metadata": {},
   "outputs": [
    {
     "name": "stdout",
     "output_type": "stream",
     "text": [
      "This does not accept small letters\n"
     ]
    }
   ],
   "source": [
    "s=\"this does not accept small letters\"\n",
    "print(s.capitalize())"
   ]
  },
  {
   "cell_type": "code",
   "execution_count": null,
   "metadata": {},
   "outputs": [
    {
     "name": "stdout",
     "output_type": "stream",
     "text": [
      "\n",
      "Welcome to Python 3.6's help utility!\n",
      "\n",
      "If this is your first time using Python, you should definitely check out\n",
      "the tutorial on the Internet at http://docs.python.org/3.6/tutorial/.\n",
      "\n",
      "Enter the name of any module, keyword, or topic to get help on writing\n",
      "Python programs and using Python modules.  To quit this help utility and\n",
      "return to the interpreter, just type \"quit\".\n",
      "\n",
      "To get a list of available modules, keywords, symbols, or topics, type\n",
      "\"modules\", \"keywords\", \"symbols\", or \"topics\".  Each module also comes\n",
      "with a one-line summary of what it does; to list the modules whose name\n",
      "or summary contain a given string such as \"spam\", type \"modules spam\".\n",
      "\n"
     ]
    }
   ],
   "source": [
    "help()"
   ]
  },
  {
   "cell_type": "code",
   "execution_count": null,
   "metadata": {},
   "outputs": [],
   "source": []
  }
 ],
 "metadata": {
  "kernelspec": {
   "display_name": "Python 3",
   "language": "python",
   "name": "python3"
  }
 },
 "nbformat": 4,
 "nbformat_minor": 2
}
